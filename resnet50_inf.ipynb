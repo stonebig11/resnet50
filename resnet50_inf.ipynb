{
 "cells": [
  {
   "cell_type": "code",
   "execution_count": 161,
   "id": "b1ce10e1",
   "metadata": {},
   "outputs": [],
   "source": [
    "import tensorflow as tf  # type: ignore\n",
    "from tensorflow.keras.applications.resnet50 import ResNet50, preprocess_input  # type: ignore\n",
    "import numpy as np\n",
    "import pandas as pd\n",
    "from torchdata.datapipes.iter import IterDataPipe  # type: ignore\n",
    "import logging\n",
    "import time\n",
    "import torch\n",
    "try:\n",
    "    import cPickle as pickle\n",
    "except ImportError:  # Python 3.x\n",
    "    import pickle \n",
    "from torch.utils.data import DataLoader  # TODO: upgrade to DataLoader2\n",
    "from retrying import retry\n",
    "import urllib.request\n",
    "pd.set_option('display.max_colwidth', None)\n",
    "pd.set_option('display.max_rows', None)\n",
    "pd.set_option('display.max_columns', None)"
   ]
  },
  {
   "cell_type": "code",
   "execution_count": 62,
   "id": "be88f66a",
   "metadata": {},
   "outputs": [
    {
     "name": "stdout",
     "output_type": "stream",
     "text": [
      "2.13.1\n"
     ]
    }
   ],
   "source": [
    "print(tf.__version__)"
   ]
  },
  {
   "cell_type": "markdown",
   "id": "7ca88f59",
   "metadata": {},
   "source": [
    "!aws s3 sync s3://sparp-dev/shilinz/image_embedding/models/ResNet50-allGLs-TripletLoss-CosineDist-DenseReLU1024-epoch5-v2/ ResNet50-allGLs-TripletLoss-CosineDist-DenseReLU1024-epoch5-v2"
   ]
  },
  {
   "cell_type": "code",
   "execution_count": 6,
   "id": "fc81d399",
   "metadata": {},
   "outputs": [
    {
     "name": "stdout",
     "output_type": "stream",
     "text": [
      "keras_metadata.pb  saved_model.pb  variables\r\n"
     ]
    }
   ],
   "source": [
    "!ls ResNet50-allGLs-TripletLoss-CosineDist-DenseReLU1024-epoch5-v2/"
   ]
  },
  {
   "cell_type": "code",
   "execution_count": 2,
   "id": "397b3726",
   "metadata": {},
   "outputs": [
    {
     "data": {
      "text/plain": [
       "'/device:GPU:0'"
      ]
     },
     "execution_count": 2,
     "metadata": {},
     "output_type": "execute_result"
    }
   ],
   "source": [
    "tf.test.gpu_device_name()"
   ]
  },
  {
   "cell_type": "code",
   "execution_count": 3,
   "id": "182e42a6",
   "metadata": {},
   "outputs": [],
   "source": [
    "def process_image(img: np.ndarray, dim: int) -> np.ndarray:\n",
    "    import cv2  # type: ignore\n",
    "\n",
    "    img = cv2.imdecode(img, cv2.IMREAD_COLOR)\n",
    "    if img is None:\n",
    "        return img\n",
    "    img = cv2.resize(img, (int(dim), int(dim)), interpolation=cv2.INTER_NEAREST)\n",
    "    img = cv2.cvtColor(img, cv2.COLOR_BGR2RGB)\n",
    "    return img"
   ]
  },
  {
   "cell_type": "code",
   "execution_count": 7,
   "id": "18e1c326",
   "metadata": {},
   "outputs": [
    {
     "name": "stdout",
     "output_type": "stream",
     "text": [
      "WARNING:tensorflow:No training configuration found in save file, so the model was *not* compiled. Compile it manually.\n"
     ]
    },
    {
     "name": "stderr",
     "output_type": "stream",
     "text": [
      "WARNING:tensorflow:No training configuration found in save file, so the model was *not* compiled. Compile it manually.\n"
     ]
    }
   ],
   "source": [
    "model_dir ='ResNet50-allGLs-TripletLoss-CosineDist-DenseReLU1024-epoch5-v2'\n",
    "model = tf.keras.models.load_model(model_dir)"
   ]
  },
  {
   "cell_type": "code",
   "execution_count": 140,
   "id": "21b68bf5",
   "metadata": {},
   "outputs": [],
   "source": [
    "def _fetch_image_retryable_exceptions(exception: Exception) -> bool:\n",
    "    # TODO: refine the retryable exceptions\n",
    "    if \"failure in name resolution\" in str(exception).lower():\n",
    "        logger.warning(\"failure in name resolution, retrying\")\n",
    "        return True\n",
    "    return False\n",
    "\n",
    "\n",
    "@retry(\n",
    "    stop_max_attempt_number=20,\n",
    "    retry_on_exception=_fetch_image_retryable_exceptions,\n",
    "    wait_exponential_max=600_000,\n",
    ")\n",
    "def fetch_image(image_id: str) -> np.ndarray:\n",
    "    url = f\"https://m.media-amazon.com/images/I/{image_id}.jpg\"\n",
    "    with urllib.request.urlopen(url) as request:\n",
    "        img_array = np.asarray(bytearray(request.read()), dtype=np.int8)\n",
    "    return img_array\n",
    "\n",
    "def fetch_pin_image(img_sig: str) -> np.ndarray:\n",
    "    if len(img_sig) < 6:\n",
    "        return ''\n",
    "    first2 = img_sig[:2] + '/'\n",
    "    second2 = img_sig[2:4] + '/'\n",
    "    third2 = img_sig[4:6] + '/'\n",
    "    pin_id = first2 + second2 + third2\n",
    "    output_url = 'https://i.pinimg.com/564x/'+ pin_id + img_sig+'.jpg'\n",
    "    with urllib.request.urlopen(output_url) as request:\n",
    "        img_array = np.asarray(bytearray(request.read()), dtype=np.int8)\n",
    "    return img_array"
   ]
  },
  {
   "cell_type": "code",
   "execution_count": 27,
   "id": "cb3908ac",
   "metadata": {},
   "outputs": [],
   "source": [
    "ASIN = 'asin'\n",
    "IMAGE_ID = 'winning_image_physical_id'\n",
    "IMAGE = 'asin_image'\n",
    "MK_ID = \"marketplace_id\""
   ]
  },
  {
   "cell_type": "code",
   "execution_count": 128,
   "id": "31bed10e",
   "metadata": {},
   "outputs": [],
   "source": [
    "class LocalParquetFileLineReaderAmznImageEmbedDataPipe(IterDataPipe):\n",
    "    def __init__(self, df, IMAGE_ID):\n",
    "        self.df = df\n",
    "        self.image_id = IMAGE_ID\n",
    "\n",
    "    def __iter__(self):\n",
    "#         pa_dataset = pq.ParquetDataset([self.file_path], filesystem=_find_filesystem(self.file_path))\n",
    "#         df = pa_dataset.read(columns=[\"asin\", \"image_id\", \"marketplace_id\"]).to_pandas()\n",
    "        asins = self.df[self.image_id].to_numpy()\n",
    "        image_ids = self.df[self.image_id].to_numpy()\n",
    "        #images = self.df[IMAGE].to_numpy()\n",
    "        print('start')\n",
    "        for index in range(0, self.df.shape[0]): \n",
    "            asin = asins[index]\n",
    "            image_id = image_ids[index]\n",
    "            #img = images[index]\n",
    "            try:\n",
    "                img = fetch_image(image_id)\n",
    "                img = process_image(img, 224)\n",
    "                if img is None:\n",
    "                    continue\n",
    "            except Exception as e:\n",
    "                print(f\"Error when processing: {asin}\", e)\n",
    "                continue\n",
    "            yield {\"image_id\": asin, \"image\": img}"
   ]
  },
  {
   "cell_type": "code",
   "execution_count": 129,
   "id": "e78974ad",
   "metadata": {},
   "outputs": [],
   "source": [
    "class LocalParquetFileLineReaderPinImageEmbedDataPipe(IterDataPipe):\n",
    "    def __init__(self, df, IMAGE_ID):\n",
    "        self.df = df\n",
    "        self.image_id = IMAGE_ID\n",
    "\n",
    "    def __iter__(self):\n",
    "#         pa_dataset = pq.ParquetDataset([self.file_path], filesystem=_find_filesystem(self.file_path))\n",
    "#         df = pa_dataset.read(columns=[\"asin\", \"image_id\", \"marketplace_id\"]).to_pandas()\n",
    "        asins = self.df[self.image_id].to_numpy()\n",
    "        image_ids = self.df[self.image_id].to_numpy()\n",
    "        #images = self.df[IMAGE].to_numpy()\n",
    "        print('start')\n",
    "        for index in range(0, self.df.shape[0]): \n",
    "            asin = asins[index]\n",
    "            image_id = image_ids[index]\n",
    "            #img = images[index]\n",
    "            try:\n",
    "                img = fetch_pin_image(image_id)\n",
    "                img = process_image(img, 224)\n",
    "                if img is None:\n",
    "                    continue\n",
    "            except Exception as e:\n",
    "                print(f\"Error when processing: {asin}\", e)\n",
    "                continue\n",
    "            yield {\"image_id\": asin, \"image\": img}"
   ]
  },
  {
   "cell_type": "code",
   "execution_count": 17,
   "id": "d5677df2",
   "metadata": {},
   "outputs": [],
   "source": [
    "with open('/home/ec2-user/SageMaker/pinterest/data/RP_label_sample_2images_clipEmb.p', 'rb') as fp:\n",
    "    input_data = pickle.load(fp)"
   ]
  },
  {
   "cell_type": "code",
   "execution_count": 136,
   "id": "618bcdf9",
   "metadata": {},
   "outputs": [],
   "source": [
    "def batchinfer_fn(\n",
    "    model,\n",
    "    input_data,\n",
    "    item_id=\"asin\",\n",
    "    image_id = 'physical_id',\n",
    "    #config: Dict[str, Any],\n",
    ") -> pd.DataFrame:\n",
    "    \"\"\"\n",
    "\n",
    "    :param model:\n",
    "    :param input_file:\n",
    "    :param config:\n",
    "    :return:\n",
    "    \"\"\"\n",
    "\n",
    "    from tensorflow.keras.applications.resnet50 import ResNet50, preprocess_input  # type: ignore\n",
    "\n",
    "    start_time = time.time()\n",
    "    if item_id in ['asin','ASIN']:\n",
    "        dataset = LocalParquetFileLineReaderAmznImageEmbedDataPipe(input_data,image_id )\n",
    "    else:\n",
    "        dataset = LocalParquetFileLineReaderPinImageEmbedDataPipe(input_data, image_id)\n",
    "    embeddings_list = []\n",
    "    asins_list = []\n",
    "    cnt = 0\n",
    "    batch_size = 128\n",
    "    # TODO: move DataLoader as a generic implementation in torchdata_batchinfer\n",
    "    for batch in DataLoader(\n",
    "        dataset,\n",
    "        batch_size=batch_size,\n",
    "        num_workers=0,  # disable multiprocess since it's not a real datapipe implementation\n",
    "    ):\n",
    "        cnt += 1\n",
    "        asins = np.array(batch['image_id']).astype(str)\n",
    "        asins_list.append(asins)\n",
    "        images = batch[\"image\"].numpy()\n",
    "        preprocessed_images = preprocess_input(images)\n",
    "        embeddings = model.predict(preprocessed_images)\n",
    "        embeddings_list.append(embeddings)\n",
    "        if cnt % 100 == 0:\n",
    "            logger.info(f\"Elapsed time: {time.time() - start_time} seconds for {cnt * batch_size} records\")\n",
    "    merged_asins = np.concatenate(asins_list, axis=0)\n",
    "    merged_embeddings = np.concatenate(embeddings_list, axis=0)\n",
    "    df_asins = pd.DataFrame(merged_asins, columns=[item_id])\n",
    "    embed_cols = [f\"embed_{x}\" for x in range(0, 1024)]\n",
    "    df_flat_embeds = pd.DataFrame(merged_embeddings, columns=embed_cols)\n",
    "    df = pd.concat([df_asins, df_flat_embeds], axis=1)\n",
    "    df[\"embed\"] = df[embed_cols].apply(lambda x: np.array(x), axis=1)\n",
    "    df.drop(columns=embed_cols, inplace=True)\n",
    "    return df"
   ]
  },
  {
   "cell_type": "code",
   "execution_count": 146,
   "id": "90dd485a",
   "metadata": {
    "scrolled": true
   },
   "outputs": [
    {
     "name": "stdout",
     "output_type": "stream",
     "text": [
      "start\n",
      "4/4 [==============================] - 0s 28ms/step\n",
      "4/4 [==============================] - 0s 28ms/step\n",
      "4/4 [==============================] - 0s 28ms/step\n",
      "4/4 [==============================] - 0s 28ms/step\n",
      "4/4 [==============================] - 0s 28ms/step\n",
      "4/4 [==============================] - 0s 28ms/step\n",
      "4/4 [==============================] - 0s 28ms/step\n",
      "4/4 [==============================] - 0s 28ms/step\n",
      "4/4 [==============================] - 0s 28ms/step\n",
      "4/4 [==============================] - 0s 28ms/step\n",
      "4/4 [==============================] - 0s 28ms/step\n",
      "4/4 [==============================] - 0s 28ms/step\n",
      "4/4 [==============================] - 0s 28ms/step\n",
      "4/4 [==============================] - 0s 102ms/step\n"
     ]
    }
   ],
   "source": [
    "asin_emb = batchinfer_fn(model, input_data.drop_duplicates('asin'), 'asin','winning_image_physical_id' )"
   ]
  },
  {
   "cell_type": "code",
   "execution_count": 150,
   "id": "c632d997",
   "metadata": {},
   "outputs": [
    {
     "data": {
      "text/plain": [
       "((1762, 2),\n",
       "           asin  \\\n",
       " 0  419KF50+zuL   \n",
       " 1  414JR9deANL   \n",
       " \n",
       "                                                                                                                                                                                                                                                                                                                                                                                                                                                                                                                                 asin_resnet50_emb  \n",
       " 0  [0.0, 0.0, 0.0, 0.0, 0.0, 0.0, 0.0, 0.0, 0.0, 0.0, 0.0, 0.0, 0.0, 0.0, 0.0, 0.0, 0.0, 0.0, 0.0, 0.0, 0.0, 0.0, 0.0, 0.0, 0.0, 0.0, 0.0, 0.0, 0.0, 0.0, 0.0, 0.0, 0.0, 0.0, 0.0, 0.0, 0.0, 0.32235116, 0.0, 0.0, 0.0, 0.0, 0.0, 0.0, 0.0, 0.0, 0.0, 0.0, 0.0, 0.0, 0.0, 0.0, 0.0, 0.3172164, 0.0, 0.0, 0.0, 0.0, 0.0, 0.0, 0.0, 0.0, 0.0, 0.0, 0.0, 0.0, 0.0, 0.0, 0.0, 0.0, 0.0, 0.0, 0.0, 0.0, 0.0, 0.0, 0.0, 0.0, 0.0, 0.0, 0.0, 0.0, 0.0, 0.0, 0.0, 0.0, 0.0, 0.022712205, 0.0, 0.0, 0.0, 0.0, 0.0, 0.0, 0.0, 0.0, 0.0, 0.0, 0.0, 0.0, ...]  \n",
       " 1                [0.0, 0.0, 0.0, 0.0, 0.0, 0.0, 0.0, 0.0, 0.0, 0.0, 0.0, 0.0, 0.0, 0.0, 0.0, 0.0, 0.0, 0.0, 0.0, 0.0, 0.0, 0.0, 0.0, 0.0, 0.0, 0.0, 0.0, 0.0, 0.0, 0.0, 0.0, 0.0, 0.0, 0.0, 0.0, 0.0, 0.0, 0.44925317, 0.0, 0.0, 0.0, 0.0, 0.0, 0.0, 0.0, 0.0, 0.0, 0.0, 0.0, 0.0, 0.0, 0.0, 0.0, 0.0, 0.0, 0.0, 0.0, 0.0, 0.0, 0.0, 0.0, 0.0, 0.0, 0.0, 0.0, 0.0, 0.0, 0.0, 0.0, 0.0, 0.0, 0.0, 0.0, 0.0, 0.0, 0.0, 0.0, 0.0, 0.0, 0.0, 0.0, 0.0, 0.0, 0.0, 0.0, 0.0, 0.0, 0.0, 0.0, 0.0, 0.0, 0.0, 0.0, 0.0, 0.0, 0.0, 0.0, 0.0, 0.0, 0.0, ...]  )"
      ]
     },
     "execution_count": 150,
     "metadata": {},
     "output_type": "execute_result"
    }
   ],
   "source": [
    "asin_emb.shape, asin_emb.drop_duplicates('asin').head(2)"
   ]
  },
  {
   "cell_type": "code",
   "execution_count": 143,
   "id": "eee637ef",
   "metadata": {},
   "outputs": [
    {
     "name": "stdout",
     "output_type": "stream",
     "text": [
      "start\n",
      "4/4 [==============================] - 0s 28ms/step\n",
      "4/4 [==============================] - 0s 28ms/step\n",
      "4/4 [==============================] - 0s 28ms/step\n",
      "4/4 [==============================] - 0s 28ms/step\n",
      "4/4 [==============================] - 0s 28ms/step\n",
      "4/4 [==============================] - 0s 28ms/step\n",
      "4/4 [==============================] - 0s 28ms/step\n",
      "4/4 [==============================] - 0s 28ms/step\n",
      "4/4 [==============================] - 0s 28ms/step\n",
      "4/4 [==============================] - 0s 28ms/step\n",
      "4/4 [==============================] - 0s 28ms/step\n",
      "4/4 [==============================] - 0s 28ms/step\n",
      "4/4 [==============================] - 0s 28ms/step\n",
      "4/4 [==============================] - 0s 28ms/step\n",
      "1/1 [==============================] - 0s 37ms/step\n"
     ]
    }
   ],
   "source": [
    "pin_emb = batchinfer_fn(model, input_data[~input_data['img_sig'].isna()].drop_duplicates('img_sig'), 'img_sig','img_sig' )"
   ]
  },
  {
   "cell_type": "code",
   "execution_count": null,
   "id": "433b6490",
   "metadata": {},
   "outputs": [],
   "source": []
  }
 ],
 "metadata": {
  "kernelspec": {
   "display_name": "conda_tensorflow2_p310",
   "language": "python",
   "name": "conda_tensorflow2_p310"
  },
  "language_info": {
   "codemirror_mode": {
    "name": "ipython",
    "version": 3
   },
   "file_extension": ".py",
   "mimetype": "text/x-python",
   "name": "python",
   "nbconvert_exporter": "python",
   "pygments_lexer": "ipython3",
   "version": "3.10.13"
  }
 },
 "nbformat": 4,
 "nbformat_minor": 5
}
